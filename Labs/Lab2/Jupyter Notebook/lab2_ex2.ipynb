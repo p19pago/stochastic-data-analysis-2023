{
 "cells": [
  {
   "cell_type": "code",
   "execution_count": 1,
   "id": "1031ee7b",
   "metadata": {},
   "outputs": [],
   "source": [
    "import numpy as np # mathematical functions and symbols each\n",
    "import random # random numbers\n",
    "import statistics\n",
    "import math\n",
    "import pandas as pd\n",
    "import csv"
   ]
  },
  {
   "cell_type": "code",
   "execution_count": 2,
   "id": "8bb9205c",
   "metadata": {},
   "outputs": [],
   "source": [
    "# for our easier use, we will import square root because it is of need for our standard deviation\n",
    "# in this case we will use numpy"
   ]
  },
  {
   "cell_type": "code",
   "execution_count": 3,
   "id": "1dc176f0",
   "metadata": {},
   "outputs": [],
   "source": [
    "from numpy import sqrt"
   ]
  },
  {
   "cell_type": "code",
   "execution_count": 4,
   "id": "c479fde1",
   "metadata": {},
   "outputs": [],
   "source": [
    "# first we will load the data from our CSV file (namely 'temp-dataset.csv')\n",
    "# declaring our data as a variable named data"
   ]
  },
  {
   "cell_type": "code",
   "execution_count": 8,
   "id": "4a8c08f5",
   "metadata": {},
   "outputs": [],
   "source": [
    "# in this case, I used the official directory where my CSV file is located and imported\n",
    "# having cloned my github repository on my docs folder"
   ]
  },
  {
   "cell_type": "code",
   "execution_count": 9,
   "id": "e2420b3c",
   "metadata": {},
   "outputs": [],
   "source": [
    "df = pd.read_csv(\"C:\\\\Users\\\\user\\\\Documents\\\\στοχαστικη εργαστήριο\\\\Labs\\\\Lab2\\\\temp-dataset.csv\",\n",
    "                 sep=\";\",\n",
    "                 decimal=\",\",\n",
    "                 index_col=0)"
   ]
  },
  {
   "cell_type": "code",
   "execution_count": 10,
   "id": "b0fb27dc",
   "metadata": {},
   "outputs": [
    {
     "name": "stdout",
     "output_type": "stream",
     "text": [
      "[[24.057]\n",
      " [23.671]\n",
      " [23.538]\n",
      " ...\n",
      " [23.376]\n",
      " [24.34 ]\n",
      " [24.144]]\n"
     ]
    }
   ],
   "source": [
    "# declaring an array which will come from a CSV file\n",
    "\n",
    "print(df.values)"
   ]
  },
  {
   "cell_type": "code",
   "execution_count": 11,
   "id": "fc15b1ca",
   "metadata": {},
   "outputs": [],
   "source": [
    "t = df.to_numpy()"
   ]
  },
  {
   "cell_type": "code",
   "execution_count": 13,
   "id": "d5238080",
   "metadata": {},
   "outputs": [
    {
     "name": "stdout",
     "output_type": "stream",
     "text": [
      "[[24.057]\n",
      " [23.671]\n",
      " [23.538]\n",
      " ...\n",
      " [23.376]\n",
      " [24.34 ]\n",
      " [24.144]]\n"
     ]
    }
   ],
   "source": [
    "# for element in t:\n",
    "    # print(element)\n",
    "\n",
    "print(t) # used in case of \"emergency\""
   ]
  },
  {
   "cell_type": "code",
   "execution_count": 14,
   "id": "23bcf65e",
   "metadata": {},
   "outputs": [],
   "source": [
    "# mean value using numpy\n",
    "\n",
    "m = np.mean(t)"
   ]
  },
  {
   "cell_type": "code",
   "execution_count": 15,
   "id": "a6a54583",
   "metadata": {},
   "outputs": [],
   "source": [
    "# variance value using numpy\n",
    "\n",
    "v = np.var(t)"
   ]
  },
  {
   "cell_type": "code",
   "execution_count": 16,
   "id": "e9eef2a5",
   "metadata": {},
   "outputs": [],
   "source": [
    "# standard deviation value using numpy\n",
    "\n",
    "sdev = np.std(t)"
   ]
  },
  {
   "cell_type": "code",
   "execution_count": 17,
   "id": "94adead4",
   "metadata": {},
   "outputs": [
    {
     "name": "stdout",
     "output_type": "stream",
     "text": [
      "Mean value is:  25.131947342458997\n",
      "Variance value is:  18.991017259158372\n",
      "Standard deviation value is:  4.357868430684705\n"
     ]
    }
   ],
   "source": [
    "# printing the final results all together\n",
    "\n",
    "print(\"Mean value is: \", m)\n",
    "\n",
    "print(\"Variance value is: \", v)\n",
    "\n",
    "print(\"Standard deviation value is: \", sdev)"
   ]
  },
  {
   "cell_type": "code",
   "execution_count": null,
   "id": "262eb18b",
   "metadata": {},
   "outputs": [],
   "source": []
  }
 ],
 "metadata": {
  "kernelspec": {
   "display_name": "Python 3 (ipykernel)",
   "language": "python",
   "name": "python3"
  },
  "language_info": {
   "codemirror_mode": {
    "name": "ipython",
    "version": 3
   },
   "file_extension": ".py",
   "mimetype": "text/x-python",
   "name": "python",
   "nbconvert_exporter": "python",
   "pygments_lexer": "ipython3",
   "version": "3.9.0"
  }
 },
 "nbformat": 4,
 "nbformat_minor": 5
}
