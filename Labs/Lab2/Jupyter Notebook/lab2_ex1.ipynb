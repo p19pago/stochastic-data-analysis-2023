{
 "cells": [
  {
   "cell_type": "code",
   "execution_count": 1,
   "id": "103d6794",
   "metadata": {},
   "outputs": [],
   "source": [
    "# Jupyter Notebook Solution for Exercise 2"
   ]
  },
  {
   "cell_type": "code",
   "execution_count": 2,
   "id": "0d7f546d",
   "metadata": {},
   "outputs": [],
   "source": [
    "import numpy as np # mathematical functions and symbols each\n",
    "import random # random numbers\n",
    "import math\n",
    "import statistics\n",
    "import pandas as pd"
   ]
  },
  {
   "cell_type": "code",
   "execution_count": 3,
   "id": "07cb0b14",
   "metadata": {},
   "outputs": [],
   "source": [
    "# declaring an array of 12 values in total\n",
    "# for each month of the year\n",
    "# this 12 values represent the temperature of a region (hometown)\n",
    "# that way we will use the numpy library to implement our array"
   ]
  },
  {
   "cell_type": "code",
   "execution_count": 4,
   "id": "d245398b",
   "metadata": {},
   "outputs": [],
   "source": [
    "# t stands for the temperature data for a certain region\n",
    "# in this case we have chosen the temperature data for the city of Ioannina, located in Epirus\n",
    "# where I come from"
   ]
  },
  {
   "cell_type": "code",
   "execution_count": 5,
   "id": "42b5493a",
   "metadata": {},
   "outputs": [],
   "source": [
    "# array using numpy\n",
    "t = np.array([4.7, 6.0, 8.8, 12.5, 17.6, 22.0, 25.0, 24.6, 19.9, 14.9, 9.8, 5.9])"
   ]
  },
  {
   "cell_type": "code",
   "execution_count": 6,
   "id": "d71b3a2f",
   "metadata": {},
   "outputs": [],
   "source": [
    "# Printing the temperature for each month under our array we declared above"
   ]
  },
  {
   "cell_type": "code",
   "execution_count": 7,
   "id": "922b434a",
   "metadata": {},
   "outputs": [
    {
     "name": "stdout",
     "output_type": "stream",
     "text": [
      "Print the temperature values held for each month: \n",
      "[ 4.7  6.   8.8 12.5 17.6 22.  25.  24.6 19.9 14.9  9.8  5.9]\n"
     ]
    }
   ],
   "source": [
    "print(\"Print the temperature values held for each month: \")\n",
    "\n",
    "print(t)"
   ]
  },
  {
   "cell_type": "code",
   "execution_count": 8,
   "id": "d06333e4",
   "metadata": {},
   "outputs": [],
   "source": [
    "# mean value using statistics library\n",
    "\n",
    "mean = statistics.mean(t)"
   ]
  },
  {
   "cell_type": "code",
   "execution_count": 9,
   "id": "c438a30d",
   "metadata": {},
   "outputs": [
    {
     "name": "stdout",
     "output_type": "stream",
     "text": [
      "Mean value is:  14.308333333333334\n"
     ]
    }
   ],
   "source": [
    "# printing mean value for our table (t in this example)\n",
    "\n",
    "print(\"Mean value is: \", mean)"
   ]
  },
  {
   "cell_type": "code",
   "execution_count": 10,
   "id": "63265a37",
   "metadata": {},
   "outputs": [],
   "source": [
    "# variance value using statistics library\n",
    "\n",
    "var = statistics.variance(t)"
   ]
  },
  {
   "cell_type": "code",
   "execution_count": 11,
   "id": "56b0e2ae",
   "metadata": {},
   "outputs": [
    {
     "name": "stdout",
     "output_type": "stream",
     "text": [
      "Variance value is:  55.25719696969697\n"
     ]
    }
   ],
   "source": [
    "# printing variance value for our table (t in this example)\n",
    "\n",
    "print(\"Variance value is: \", var)"
   ]
  },
  {
   "cell_type": "code",
   "execution_count": null,
   "id": "be85077d",
   "metadata": {},
   "outputs": [],
   "source": []
  }
 ],
 "metadata": {
  "kernelspec": {
   "display_name": "Python 3 (ipykernel)",
   "language": "python",
   "name": "python3"
  },
  "language_info": {
   "codemirror_mode": {
    "name": "ipython",
    "version": 3
   },
   "file_extension": ".py",
   "mimetype": "text/x-python",
   "name": "python",
   "nbconvert_exporter": "python",
   "pygments_lexer": "ipython3",
   "version": "3.9.0"
  }
 },
 "nbformat": 4,
 "nbformat_minor": 5
}
