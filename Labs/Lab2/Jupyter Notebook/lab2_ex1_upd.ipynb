{
 "cells": [
  {
   "cell_type": "code",
   "execution_count": 1,
   "id": "c193d4d3",
   "metadata": {},
   "outputs": [],
   "source": [
    "# Jupyter Notebook Solution for Exercise 2"
   ]
  },
  {
   "cell_type": "code",
   "execution_count": 2,
   "id": "74e30722",
   "metadata": {},
   "outputs": [],
   "source": [
    "# updated to fit Standard Deviation"
   ]
  },
  {
   "cell_type": "code",
   "execution_count": 3,
   "id": "2efb3dcb",
   "metadata": {},
   "outputs": [],
   "source": [
    "import numpy as np # mathematical functions and symbols each\n",
    "import random # random numbers\n",
    "import math\n",
    "import statistics\n",
    "import pandas as pd"
   ]
  },
  {
   "cell_type": "code",
   "execution_count": 4,
   "id": "52d63e34",
   "metadata": {},
   "outputs": [],
   "source": [
    "# declaring an array of 12 values in total\n",
    "# for each month of the year\n",
    "# this 12 values represent the temperature of a region (hometown)\n",
    "# that way we will use the numpy library to implement our array"
   ]
  },
  {
   "cell_type": "code",
   "execution_count": 5,
   "id": "018fd82a",
   "metadata": {},
   "outputs": [],
   "source": [
    "# t stands for the temperature data for a certain region\n",
    "# in this case we have chosen the temperature data for the city of Ioannina, located in Epirus\n",
    "# where I come from"
   ]
  },
  {
   "cell_type": "code",
   "execution_count": 6,
   "id": "fc02a431",
   "metadata": {},
   "outputs": [],
   "source": [
    "# array using numpy\n",
    "t = np.array([4.7, 6.0, 8.8, 12.5, 17.6, 22.0, 25.0, 24.6, 19.9, 14.9, 9.8, 5.9])"
   ]
  },
  {
   "cell_type": "code",
   "execution_count": 7,
   "id": "6a80ce85",
   "metadata": {},
   "outputs": [],
   "source": [
    "# Printing the temperature for each month under our array we declared above"
   ]
  },
  {
   "cell_type": "code",
   "execution_count": 8,
   "id": "a4a8e91f",
   "metadata": {},
   "outputs": [
    {
     "name": "stdout",
     "output_type": "stream",
     "text": [
      "Print the temperature values held for each month: \n",
      "[ 4.7  6.   8.8 12.5 17.6 22.  25.  24.6 19.9 14.9  9.8  5.9]\n"
     ]
    }
   ],
   "source": [
    "print(\"Print the temperature values held for each month: \")\n",
    "\n",
    "print(t)"
   ]
  },
  {
   "cell_type": "code",
   "execution_count": 9,
   "id": "db7c1101",
   "metadata": {},
   "outputs": [],
   "source": [
    "# mean value using statistics library\n",
    "\n",
    "mean = statistics.mean(t)"
   ]
  },
  {
   "cell_type": "code",
   "execution_count": 10,
   "id": "879af263",
   "metadata": {},
   "outputs": [
    {
     "name": "stdout",
     "output_type": "stream",
     "text": [
      "Mean value is:  14.308333333333334\n"
     ]
    }
   ],
   "source": [
    "# printing mean value for our table (t in this example)\n",
    "\n",
    "print(\"Mean value is: \", mean)"
   ]
  },
  {
   "cell_type": "code",
   "execution_count": 11,
   "id": "a1a45082",
   "metadata": {},
   "outputs": [],
   "source": [
    "# variance value using statistics library\n",
    "\n",
    "var = statistics.variance(t)"
   ]
  },
  {
   "cell_type": "code",
   "execution_count": 12,
   "id": "5290110c",
   "metadata": {},
   "outputs": [
    {
     "name": "stdout",
     "output_type": "stream",
     "text": [
      "Variance value is:  55.25719696969697\n"
     ]
    }
   ],
   "source": [
    "# printing variance value for our table (t in this example)\n",
    "\n",
    "print(\"Variance value is: \", var)"
   ]
  },
  {
   "cell_type": "code",
   "execution_count": 13,
   "id": "ead3825a",
   "metadata": {},
   "outputs": [],
   "source": [
    "# standard deviation using statistics library\n",
    "\n",
    "stdv = statistics.stdev(t, mean)"
   ]
  },
  {
   "cell_type": "code",
   "execution_count": 14,
   "id": "82440423",
   "metadata": {},
   "outputs": [
    {
     "name": "stdout",
     "output_type": "stream",
     "text": [
      "Standard deviation value is:  7.433518478466101\n"
     ]
    }
   ],
   "source": [
    "# printing standard deviation value for our table (t in this example)\n",
    "\n",
    "print(\"Standard deviation value is: \", stdv)"
   ]
  },
  {
   "cell_type": "code",
   "execution_count": null,
   "id": "e4a123ff",
   "metadata": {},
   "outputs": [],
   "source": []
  }
 ],
 "metadata": {
  "kernelspec": {
   "display_name": "Python 3 (ipykernel)",
   "language": "python",
   "name": "python3"
  },
  "language_info": {
   "codemirror_mode": {
    "name": "ipython",
    "version": 3
   },
   "file_extension": ".py",
   "mimetype": "text/x-python",
   "name": "python",
   "nbconvert_exporter": "python",
   "pygments_lexer": "ipython3",
   "version": "3.9.0"
  }
 },
 "nbformat": 4,
 "nbformat_minor": 5
}
