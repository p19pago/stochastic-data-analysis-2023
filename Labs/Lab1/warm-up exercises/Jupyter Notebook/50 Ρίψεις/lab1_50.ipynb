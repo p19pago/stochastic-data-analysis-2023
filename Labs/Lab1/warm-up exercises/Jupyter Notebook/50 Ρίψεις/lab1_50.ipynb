{
 "cells": [
  {
   "cell_type": "code",
   "execution_count": 1,
   "id": "261324e3",
   "metadata": {},
   "outputs": [],
   "source": [
    "# Python code for Random Walk in One Dimension of the X, Y Axis.\n",
    "# My method as described in my repo from 2022: p19pago/probability-2022\n",
    "# Lab 7 out of total 10 we did in class, as taken place on Tuesday April 12th 2022"
   ]
  },
  {
   "cell_type": "code",
   "execution_count": 2,
   "id": "cfa008c6",
   "metadata": {},
   "outputs": [],
   "source": [
    "# solution without decimals"
   ]
  },
  {
   "cell_type": "code",
   "execution_count": 3,
   "id": "569889cb",
   "metadata": {},
   "outputs": [],
   "source": [
    "# Code\n",
    "# Import functions as to be used during the code\n",
    "# Functions that will be used: random (for random numbers), numpy (for mathematical functions/symbols)\n",
    "# and matplotlib to implement the final chart and position of the walker.\n",
    "# Initialization"
   ]
  },
  {
   "cell_type": "code",
   "execution_count": 4,
   "id": "cb2745b5",
   "metadata": {},
   "outputs": [],
   "source": [
    "import random # random numbers\n",
    "import numpy as np # mathematical functions and symbols each\n",
    "import matplotlib.pyplot as plt # diagram/graph plotting package"
   ]
  },
  {
   "cell_type": "code",
   "execution_count": 5,
   "id": "e18f80d4",
   "metadata": {},
   "outputs": [],
   "source": [
    "# we first import the three (3) basic libraries as described in the comments on the first 8 lines of the code\n",
    "# either way we should have imported the \"time\" library, but it does not count in our method\n",
    "# because it measures the number of seconds since January 1st 1970.\n",
    "# but we will use arrays to declare our final points and positions (using np)"
   ]
  },
  {
   "cell_type": "code",
   "execution_count": 6,
   "id": "574a613b",
   "metadata": {},
   "outputs": [],
   "source": [
    "# let's get to the main point of the code and what it actually needs.\n",
    "# variable declaration"
   ]
  },
  {
   "cell_type": "code",
   "execution_count": 7,
   "id": "2b54ce26",
   "metadata": {},
   "outputs": [],
   "source": [
    "# in Python you cannot declare a variable without assigning its value, so we are going to use values for each variable\n",
    "# variables that will be of use on our method are:"
   ]
  },
  {
   "cell_type": "code",
   "execution_count": 8,
   "id": "90f26c01",
   "metadata": {},
   "outputs": [],
   "source": [
    "# generic variables\n",
    "\n",
    "#       x (a random variable)\n",
    "#       rw (an array determining the amount of walks in one dimension)"
   ]
  },
  {
   "cell_type": "code",
   "execution_count": 9,
   "id": "d0c6bd73",
   "metadata": {},
   "outputs": [],
   "source": [
    "x = 0 # x must be initialized to 0\n",
    "rw = np.zeros(50) # a 1 dimensional array consisting of zeros at the beginning.\n",
    "# It determines the amount of walks in one dimension."
   ]
  },
  {
   "cell_type": "code",
   "execution_count": 10,
   "id": "3ae5b44d",
   "metadata": {},
   "outputs": [],
   "source": [
    "# other variables\n",
    "# first walkers"
   ]
  },
  {
   "cell_type": "code",
   "execution_count": 11,
   "id": "bf9a2d6d",
   "metadata": {},
   "outputs": [],
   "source": [
    "#       p1 (position for the first walker as it is moving across the axis)\n",
    "#       s1 (registered position for the first walker as shown in the chart)\n",
    "\n",
    "p1 = 0 # position for the first walker must be initialized to 0\n",
    "s1 = [0] # registered position for the first walker, also must be initialized to 0"
   ]
  },
  {
   "cell_type": "code",
   "execution_count": 12,
   "id": "3e5f9d06",
   "metadata": {},
   "outputs": [],
   "source": [
    "# no heads or tails will be of need in this example"
   ]
  },
  {
   "cell_type": "code",
   "execution_count": 13,
   "id": "59d3e933",
   "metadata": {},
   "outputs": [],
   "source": [
    "# IMPORTANT: before we move into the main part of the code, we should alter the values of the array\n",
    "# so instead of zeros it should be integers from 0 to 50\n",
    "\n",
    "rw = np.arange(0, 50)"
   ]
  },
  {
   "cell_type": "code",
   "execution_count": 14,
   "id": "992b78f3",
   "metadata": {},
   "outputs": [],
   "source": [
    "# main part of the code"
   ]
  },
  {
   "cell_type": "code",
   "execution_count": 18,
   "id": "f38bfc03",
   "metadata": {},
   "outputs": [
    {
     "name": "stdout",
     "output_type": "stream",
     "text": [
      "Random number result is:  4\n",
      "Random number result is:  1\n",
      "Random number result is:  9\n",
      "Random number result is:  2\n",
      "Random number result is:  9\n",
      "Random number result is:  9\n",
      "Random number result is:  6\n",
      "Random number result is:  1\n",
      "Random number result is:  8\n",
      "Random number result is:  7\n",
      "Random number result is:  2\n",
      "Random number result is:  4\n",
      "Random number result is:  1\n",
      "Random number result is:  2\n",
      "Random number result is:  3\n",
      "Random number result is:  8\n",
      "Random number result is:  7\n",
      "Random number result is:  2\n",
      "Random number result is:  1\n",
      "Random number result is:  5\n",
      "Random number result is:  8\n",
      "Random number result is:  7\n",
      "Random number result is:  3\n",
      "Random number result is:  2\n",
      "Random number result is:  7\n",
      "Random number result is:  3\n",
      "Random number result is:  6\n",
      "Random number result is:  4\n",
      "Random number result is:  9\n",
      "Random number result is:  9\n",
      "Random number result is:  8\n",
      "Random number result is:  9\n",
      "Random number result is:  4\n",
      "Random number result is:  6\n",
      "Random number result is:  4\n",
      "Random number result is:  3\n",
      "Random number result is:  7\n",
      "Random number result is:  2\n",
      "Random number result is:  6\n",
      "Random number result is:  1\n",
      "Random number result is:  1\n",
      "Random number result is:  2\n",
      "Random number result is:  4\n",
      "Random number result is:  9\n",
      "Random number result is:  2\n",
      "Random number result is:  1\n",
      "Random number result is:  0\n",
      "Random number result is:  9\n",
      "Random number result is:  2\n"
     ]
    }
   ],
   "source": [
    "# using a for-loop to determine time points and positions as the walker moves around.\n",
    "\n",
    "for i in range (1, 50): # first we begin with 50 rolls\n",
    "\n",
    "    x = random.randint(0,9)\n",
    "    print(\"Random number result is: \", x)\n",
    "\n",
    "    # two simple if-structures to determine if the walker should move up or down\n",
    "\n",
    "    # if-structure if x is greater than 5\n",
    "    \n",
    "    if (x>5):\n",
    "        p1 = x + 1\n",
    "        s1.append (rw[p1])\n",
    "        \n",
    "    # if-structure if x is smaller than 5\n",
    "     \n",
    "    if (x<5):\n",
    "        p1 = x - 1\n",
    "        s1.append (rw[p1])"
   ]
  },
  {
   "cell_type": "code",
   "execution_count": 16,
   "id": "344a5d1f",
   "metadata": {},
   "outputs": [
    {
     "name": "stdout",
     "output_type": "stream",
     "text": [
      "Registered position for the first walker is:  [0, 2, 49, 8, 49, 0, 10, 7, 3, 2, 0, 7, 1, 1, 7, 1, 2, 1, 1, 0, 3, 10, 1, 1, 0, 8, 1, 7, 2, 3, 2, 7, 2, 3, 49, 1, 9, 8, 9, 9, 10, 8, 49, 0, 9]\n",
      "Final position for the first walker is: 9\n"
     ]
    }
   ],
   "source": [
    "print(\"Registered position for the first walker is: \", s1) \n",
    "print (\"Final position for the first walker is:\", p1)"
   ]
  },
  {
   "cell_type": "code",
   "execution_count": 17,
   "id": "c4d56f25",
   "metadata": {},
   "outputs": [
    {
     "data": {
      "image/png": "[encoded data removed]",
      "text/plain": [
       "<Figure size 432x288 with 1 Axes>"
      ]
     },
     "metadata": {
      "needs_background": "light"
     },
     "output_type": "display_data"
    }
   ],
   "source": [
    "# plotting down the graph of the random walk in 1 dimension\n",
    "# using pyplot\n",
    "\n",
    "plt.plot(s1)\n",
    "plt.show()"
   ]
  },
  {
   "cell_type": "code",
   "execution_count": null,
   "id": "55eac755",
   "metadata": {},
   "outputs": [],
   "source": []
  }
 ],
 "metadata": {
  "kernelspec": {
   "display_name": "Python 3 (ipykernel)",
   "language": "python",
   "name": "python3"
  },
  "language_info": {
   "codemirror_mode": {
    "name": "ipython",
    "version": 3
   },
   "file_extension": ".py",
   "mimetype": "text/x-python",
   "name": "python",
   "nbconvert_exporter": "python",
   "pygments_lexer": "ipython3",
   "version": "3.9.0"
  }
 },
 "nbformat": 4,
 "nbformat_minor": 5
}
