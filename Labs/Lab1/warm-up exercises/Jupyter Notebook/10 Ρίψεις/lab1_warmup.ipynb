{
 "cells": [
  {
   "cell_type": "code",
   "execution_count": 28,
   "id": "a75f2f89",
   "metadata": {},
   "outputs": [],
   "source": [
    "# Python code for Random Walk in One Dimension of the X, Y Axis.\n",
    "# My method as described in my repo from 2022: p19pago/probability-2022\n",
    "# Lab 7 out of total 10 we did in class, as taken place on Tuesday April 12th 2022\n",
    "\n",
    "# solution without decimals\n"
   ]
  },
  {
   "cell_type": "code",
   "execution_count": 4,
   "id": "f98cae7f",
   "metadata": {},
   "outputs": [],
   "source": [
    "# Code\n",
    "# Import functions as to be used during the code\n",
    "# Functions that will be used: random (for random numbers), numpy (for mathematical functions/symbols) and matplotlib to implement the final chart and position of the walker."
   ]
  },
  {
   "cell_type": "code",
   "execution_count": 5,
   "id": "38f16fce",
   "metadata": {},
   "outputs": [],
   "source": [
    "# Initialization\n",
    "\n",
    "import random # random numbers\n",
    "import numpy as np # mathematical functions and symbols each\n",
    "import matplotlib.pyplot as plt # diagram/graph plotting package\n",
    "\n",
    "# we first import the three (3) basic libraries as described in the comments on the first 8 lines of the code"
   ]
  },
  {
   "cell_type": "code",
   "execution_count": 10,
   "id": "c10788bf",
   "metadata": {},
   "outputs": [],
   "source": [
    "# either way we should have imported the \"time\" library, but it does not count in our method because it measures the number of seconds since January 1st 1970.\n",
    "# but we will use arrays to declare our final points and positions (using np)"
   ]
  },
  {
   "cell_type": "code",
   "execution_count": 11,
   "id": "4b93cf43",
   "metadata": {},
   "outputs": [],
   "source": [
    "# let's get to the main point of the code and what it actually needs.\n",
    "# variable declaration"
   ]
  },
  {
   "cell_type": "code",
   "execution_count": 12,
   "id": "3b32f08f",
   "metadata": {},
   "outputs": [],
   "source": [
    "# in Python you cannot declare a variable without assigning its value, so we are going to use values for each variable\n",
    "# variables that will be of use on our method are:\n",
    "\n",
    "# generic variables\n",
    "\n",
    "#       x (a random variable)\n",
    "#       rw (an array determining the amount of walks in one dimension)\n",
    "\n",
    "x = 0; # x must be initialized to 0\n",
    "rw = np.zeros(1000); # a 1 dimensional array consisting of zeros. It determines the amount of walks in one dimension"
   ]
  },
  {
   "cell_type": "code",
   "execution_count": 17,
   "id": "c14dfd24",
   "metadata": {},
   "outputs": [],
   "source": [
    "# other variables\n",
    "# first walkers\n",
    "\n",
    "#       p1 (position for the first walker as it is moving across the axis)\n",
    "#       s1 (registered position for the first walker as shown in the chart)\n",
    "\n",
    "p1 = 0 # position for the first walker must be initialized to 0\n",
    "s1 = 0 # registered position for the first walker, also must be initialized to 0"
   ]
  },
  {
   "cell_type": "code",
   "execution_count": 32,
   "id": "6603cab8",
   "metadata": {},
   "outputs": [],
   "source": [
    "# IMPORTANT: before we move into the main part of the code, we should alter the values of the array so instead of zeros it should be integers from 0 to 1000\n",
    "\n",
    "rw = np.arange(0, 1000)"
   ]
  },
  {
   "cell_type": "code",
   "execution_count": 33,
   "id": "ee83e825",
   "metadata": {},
   "outputs": [],
   "source": [
    "# main part of the code"
   ]
  },
  {
   "cell_type": "code",
   "execution_count": 37,
   "id": "be09af77",
   "metadata": {},
   "outputs": [
    {
     "name": "stdout",
     "output_type": "stream",
     "text": [
      "Random number result is:  1\n",
      "Random number result is:  7\n",
      "Random number result is:  5\n",
      "Random number result is:  0\n",
      "Random number result is:  4\n",
      "Random number result is:  6\n",
      "Random number result is:  3\n",
      "Random number result is:  1\n",
      "Random number result is:  7\n",
      "Registered position for the first walker is:  8\n",
      "Final position for the first walker is: 8\n"
     ]
    }
   ],
   "source": [
    "for i in range (1, 10): # first we begin with 10 rolls\n",
    "\n",
    "    x = random.randint(0,9)\n",
    "    print(\"Random number result is: \", x)\n",
    "\n",
    "    # two simple if-structures to determine if the walker should move up or down\n",
    "\n",
    "    # if-structure if x is greater than 5\n",
    "    \n",
    "    if (x>5):\n",
    "        p1 = x + 1\n",
    "        s1 = rw[p1]\n",
    "        \n",
    "    # if-structure if x is smaller than 5   \n",
    "     \n",
    "    if (x<5):\n",
    "        p1 = x - 1\n",
    "        s1 = rw[p1]\n",
    "        \n",
    "print(\"Registered position for the first walker is: \", s1)   \n",
    "print (\"Final position for the first walker is:\", p1)"
   ]
  },
  {
   "cell_type": "code",
   "execution_count": 38,
   "id": "4ce33263",
   "metadata": {},
   "outputs": [],
   "source": [
    "# plotting down the graph of the random walk in 1 dimension    \n",
    "# using pyplot"
   ]
  },
  {
   "cell_type": "code",
   "execution_count": 39,
   "id": "9dca78f4",
   "metadata": {},
   "outputs": [
    {
     "data": {
      "image/png": "[encoded data removed]",
      "text/plain": [
       "<Figure size 432x288 with 1 Axes>"
      ]
     },
     "metadata": {
      "needs_background": "light"
     },
     "output_type": "display_data"
    }
   ],
   "source": [
    "plt.plot(s1)\n",
    "plt.show()"
   ]
  },
  {
   "cell_type": "code",
   "execution_count": null,
   "id": "70e38864",
   "metadata": {},
   "outputs": [],
   "source": []
  }
 ],
 "metadata": {
  "kernelspec": {
   "display_name": "Python 3 (ipykernel)",
   "language": "python",
   "name": "python3"
  },
  "language_info": {
   "codemirror_mode": {
    "name": "ipython",
    "version": 3
   },
   "file_extension": ".py",
   "mimetype": "text/x-python",
   "name": "python",
   "nbconvert_exporter": "python",
   "pygments_lexer": "ipython3",
   "version": "3.9.0"
  }
 },
 "nbformat": 4,
 "nbformat_minor": 5
}
