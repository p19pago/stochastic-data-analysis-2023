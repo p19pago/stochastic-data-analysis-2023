{
 "cells": [
  {
   "cell_type": "code",
   "execution_count": 10,
   "id": "b0c18898",
   "metadata": {},
   "outputs": [],
   "source": [
    "# Lab 5th\n",
    "# \"my method\" 3 of 4 - solution with random values without input or for-loops (random numbers)\n",
    "# using the random module in Python to generate random values\n",
    "\n",
    "# first we import the functions which will be used for our program.\n",
    "\n",
    "# we will use the numpy, statistics and math packages (math is optional as well)\n",
    "# we will also import the pandas package because it might be of need (in case of a CSV solution)\n",
    "# there are random numbers here as declared in tables of our choice\n",
    "# (we will import the random package too just in case)\n",
    "# (no dataset from a CSV file)"
   ]
  },
  {
   "cell_type": "code",
   "execution_count": 11,
   "id": "5bb0d702",
   "metadata": {},
   "outputs": [],
   "source": [
    "import numpy as np\n",
    "import pandas as pd\n",
    "import statistics\n",
    "import math\n",
    "import random\n",
    "\n",
    "# we will also import sqrt which stands for square root - it is optional\n",
    "\n",
    "from numpy import sqrt"
   ]
  },
  {
   "cell_type": "code",
   "execution_count": 12,
   "id": "25e85dbf",
   "metadata": {},
   "outputs": [],
   "source": [
    "# declaring an array of our choice\n",
    "# will consist of different values\n",
    "# no input from user or empty list creation\n",
    "# just values assigned without input\n",
    "\n",
    "# array values declaration\n",
    "# used random numbers to generate our values\n",
    "# random numbers using the random package in Python\n",
    "\n",
    "x = [random.randint(1, 100) for i in range(10)]"
   ]
  },
  {
   "cell_type": "code",
   "execution_count": 13,
   "id": "8d84ccac",
   "metadata": {},
   "outputs": [],
   "source": [
    "# we can optionally print them\n",
    "\n",
    "# array size declaration\n",
    "\n",
    "n = 10\n",
    "\n",
    "# no input from user or empty list creation\n",
    "# just values assigned without input"
   ]
  },
  {
   "cell_type": "code",
   "execution_count": 14,
   "id": "86788396",
   "metadata": {},
   "outputs": [],
   "source": [
    "# array values declaration\n",
    "# used random numbers to generate our values\n",
    "# random numbers using the random package in Python\n",
    "\n",
    "y = [random.randint(1, 100) for i in range(10)]"
   ]
  },
  {
   "cell_type": "code",
   "execution_count": 15,
   "id": "a1ede1d3",
   "metadata": {},
   "outputs": [
    {
     "name": "stdout",
     "output_type": "stream",
     "text": [
      "Variance value is:  304.76666666666665\n"
     ]
    }
   ],
   "source": [
    "# once we are done with our values we will calculate our variance first\n",
    "# variance using statistics\n",
    "\n",
    "var = statistics.variance(x)\n",
    "\n",
    "print(\"Variance value is: \", var)"
   ]
  },
  {
   "cell_type": "code",
   "execution_count": 16,
   "id": "65e20ac4",
   "metadata": {},
   "outputs": [
    {
     "name": "stdout",
     "output_type": "stream",
     "text": [
      "Covariance value is:  703.2111111111111\n"
     ]
    }
   ],
   "source": [
    "# covariance using statistics\n",
    "\n",
    "cov = np.cov(y)\n",
    "print(\"Covariance value is: \", cov)"
   ]
  },
  {
   "cell_type": "code",
   "execution_count": 17,
   "id": "e16ad009",
   "metadata": {},
   "outputs": [
    {
     "name": "stdout",
     "output_type": "stream",
     "text": [
      "Pearson correlation coefficient is:  [[1.         0.74160956]\n",
      " [0.74160956 1.        ]]\n"
     ]
    }
   ],
   "source": [
    "# Pearson correlation coefficient using numpy\n",
    "\n",
    "r = np.corrcoef(x,y)\n",
    "print(\"Pearson correlation coefficient is: \", r)"
   ]
  }
 ],
 "metadata": {
  "kernelspec": {
   "display_name": "Python 3 (ipykernel)",
   "language": "python",
   "name": "python3"
  },
  "language_info": {
   "codemirror_mode": {
    "name": "ipython",
    "version": 3
   },
   "file_extension": ".py",
   "mimetype": "text/x-python",
   "name": "python",
   "nbconvert_exporter": "python",
   "pygments_lexer": "ipython3",
   "version": "3.9.0"
  }
 },
 "nbformat": 4,
 "nbformat_minor": 5
}
