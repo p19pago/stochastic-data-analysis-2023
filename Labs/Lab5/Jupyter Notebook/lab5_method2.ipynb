{
 "cells": [
  {
   "cell_type": "code",
   "execution_count": 1,
   "id": "40b44b62",
   "metadata": {},
   "outputs": [],
   "source": [
    "# Lab 5th\n",
    "# \"my method\" 2 of 4 - solution with values assigned from user\n",
    "# without input or for-loops (random numbers)\n",
    "\n",
    "# first we import the functions which will be used for our program.\n",
    "\n",
    "# we will use the numpy, statistics and math packages (math is optional as well)\n",
    "# we will also import the pandas package because it might be of need (in case of a CSV solution)\n",
    "# there are random numbers here as declared in tables of our choice\n",
    "# (we will import the random package too just in case)\n",
    "# (no dataset from a CSV file)"
   ]
  },
  {
   "cell_type": "code",
   "execution_count": 2,
   "id": "96e574ed",
   "metadata": {},
   "outputs": [],
   "source": [
    "import numpy as np\n",
    "import pandas as pd\n",
    "import statistics\n",
    "import math\n",
    "import random"
   ]
  },
  {
   "cell_type": "code",
   "execution_count": 3,
   "id": "71ef7344",
   "metadata": {},
   "outputs": [],
   "source": [
    "# we will also import sqrt which stands for square root - it is optional\n",
    "\n",
    "from numpy import sqrt\n",
    "\n",
    "# declaring an array of our choice\n",
    "# will consist of different values\n",
    "# no input from user or empty list creation\n",
    "# just values assigned without input"
   ]
  },
  {
   "cell_type": "code",
   "execution_count": 4,
   "id": "8f89fc8e",
   "metadata": {},
   "outputs": [],
   "source": [
    "# array values declaration\n",
    "# used random numbers to generate our values\n",
    "\n",
    "x = np.array([80, 13, 59, 38, 88, 6, 43, 44, 71, 22])"
   ]
  },
  {
   "cell_type": "code",
   "execution_count": 7,
   "id": "2767cf28",
   "metadata": {},
   "outputs": [],
   "source": [
    "# array size declaration\n",
    "\n",
    "n = 10\n",
    "\n",
    "# no input from user or empty list creation\n",
    "# just values assigned without input\n",
    "\n",
    "# array values declaration\n",
    "# used random numbers to generate our values\n",
    "\n",
    "y = np.array([16, 8, 30, 4, 25, 70, 40, 3, 64, -1])"
   ]
  },
  {
   "cell_type": "code",
   "execution_count": 8,
   "id": "848ad2ed",
   "metadata": {},
   "outputs": [
    {
     "name": "stdout",
     "output_type": "stream",
     "text": [
      "Variance value is:  783\n"
     ]
    }
   ],
   "source": [
    "# once we are done with our values we will calculate our variance first\n",
    "# variance using statistics\n",
    "\n",
    "var = statistics.variance(x)\n",
    "\n",
    "print(\"Variance value is: \", var)"
   ]
  },
  {
   "cell_type": "code",
   "execution_count": 9,
   "id": "57f382a5",
   "metadata": {},
   "outputs": [
    {
     "name": "stdout",
     "output_type": "stream",
     "text": [
      "Covariance value is:  639.8777777777777\n"
     ]
    }
   ],
   "source": [
    "# covariance using statistics\n",
    "\n",
    "cov = np.cov(y)\n",
    "print(\"Covariance value is: \", cov)"
   ]
  },
  {
   "cell_type": "code",
   "execution_count": 10,
   "id": "4024b351",
   "metadata": {},
   "outputs": [
    {
     "name": "stdout",
     "output_type": "stream",
     "text": [
      "Pearson correlation coefficient is:  [[1.         0.04430624]\n",
      " [0.04430624 1.        ]]\n"
     ]
    }
   ],
   "source": [
    "# Pearson correlation coefficient using numpy\n",
    "\n",
    "r = np.corrcoef(x,y)\n",
    "print(\"Pearson correlation coefficient is: \", r)"
   ]
  },
  {
   "cell_type": "code",
   "execution_count": null,
   "id": "a34da06f",
   "metadata": {},
   "outputs": [],
   "source": []
  }
 ],
 "metadata": {
  "kernelspec": {
   "display_name": "Python 3 (ipykernel)",
   "language": "python",
   "name": "python3"
  },
  "language_info": {
   "codemirror_mode": {
    "name": "ipython",
    "version": 3
   },
   "file_extension": ".py",
   "mimetype": "text/x-python",
   "name": "python",
   "nbconvert_exporter": "python",
   "pygments_lexer": "ipython3",
   "version": "3.9.0"
  }
 },
 "nbformat": 4,
 "nbformat_minor": 5
}
