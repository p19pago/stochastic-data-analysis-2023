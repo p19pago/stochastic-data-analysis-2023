{
 "cells": [
  {
   "cell_type": "code",
   "execution_count": 1,
   "id": "09a7291c",
   "metadata": {},
   "outputs": [],
   "source": [
    "# Lab 5th\n",
    "# \"my method\" 1 of 4 - solution with values input from user\n",
    "\n",
    "# first we import the functions which will be used for our program.\n",
    "\n",
    "# we will use the numpy, statistics and math packages (math is optional as well)\n",
    "# we will also import the pandas package because it might be of need (in case of a CSV solution)\n",
    "# there are random numbers here as declared in tables of our choice\n",
    "# (we will import the random package too just in case)\n",
    "# (no dataset from a CSV file)\n"
   ]
  },
  {
   "cell_type": "code",
   "execution_count": 2,
   "id": "4b197716",
   "metadata": {},
   "outputs": [],
   "source": [
    "import numpy as np\n",
    "import pandas as pd\n",
    "import statistics\n",
    "import math\n",
    "import random"
   ]
  },
  {
   "cell_type": "code",
   "execution_count": 3,
   "id": "daad8509",
   "metadata": {},
   "outputs": [],
   "source": [
    "# we will also import sqrt which stands for square root - it is optional\n",
    "\n",
    "from numpy import sqrt"
   ]
  },
  {
   "cell_type": "code",
   "execution_count": 4,
   "id": "0defa542",
   "metadata": {},
   "outputs": [],
   "source": [
    "# declaring an array of our choice\n",
    "# will consist of different values\n",
    "# input from user\n",
    "\n",
    "# empty list creation\n",
    "\n",
    "x = []\n",
    "\n",
    "# array size declaration\n",
    "\n",
    "n = 10"
   ]
  },
  {
   "cell_type": "code",
   "execution_count": 5,
   "id": "108ebc18",
   "metadata": {},
   "outputs": [
    {
     "name": "stdout",
     "output_type": "stream",
     "text": [
      "Enter values: \n",
      "1\n",
      "2\n",
      "3\n",
      "4\n",
      "5\n",
      "6\n",
      "7\n",
      "8\n",
      "9\n",
      "10\n"
     ]
    }
   ],
   "source": [
    "# a message used to prompt the user to enter their desired values\n",
    "\n",
    "print(\"Enter values: \")\n",
    "\n",
    "# for-loop\n",
    "for i in range(0, n):\n",
    "    val1 = float(input())\n",
    "    x.append(val1)"
   ]
  },
  {
   "cell_type": "code",
   "execution_count": 6,
   "id": "3ab864e7",
   "metadata": {},
   "outputs": [
    {
     "name": "stdout",
     "output_type": "stream",
     "text": [
      "Enter values: \n",
      "2\n",
      "4\n",
      "6\n",
      "8\n",
      "10\n",
      "12\n",
      "14\n",
      "16\n",
      "18\n",
      "20\n"
     ]
    }
   ],
   "source": [
    "# empty list creation\n",
    "\n",
    "y = []\n",
    "\n",
    "# a message used to prompt the user to enter their desired values\n",
    "\n",
    "print(\"Enter values: \")\n",
    "\n",
    "# another for-loop used for our second array\n",
    "\n",
    "# for-loop\n",
    "for i in range(0, n):\n",
    "    val2 = float(input())\n",
    "    y.append(val2)"
   ]
  },
  {
   "cell_type": "code",
   "execution_count": 7,
   "id": "e5cbdf57",
   "metadata": {},
   "outputs": [
    {
     "name": "stdout",
     "output_type": "stream",
     "text": [
      "Variance value is:  9.166666666666666\n"
     ]
    }
   ],
   "source": [
    "# once we are done with our values we will calculate our variance first\n",
    "# variance using statistics\n",
    "\n",
    "var = statistics.variance(x)\n",
    "\n",
    "print(\"Variance value is: \", var)"
   ]
  },
  {
   "cell_type": "code",
   "execution_count": 8,
   "id": "7377c3de",
   "metadata": {},
   "outputs": [
    {
     "name": "stdout",
     "output_type": "stream",
     "text": [
      "Covariance value is:  36.666666666666664\n"
     ]
    }
   ],
   "source": [
    "# covariance using statistics\n",
    "\n",
    "cov = np.cov(y)\n",
    "print(\"Covariance value is: \", cov)"
   ]
  },
  {
   "cell_type": "code",
   "execution_count": 9,
   "id": "c87144a1",
   "metadata": {},
   "outputs": [
    {
     "name": "stdout",
     "output_type": "stream",
     "text": [
      "Pearson correlation coefficient is:  [[1. 1.]\n",
      " [1. 1.]]\n"
     ]
    }
   ],
   "source": [
    "# Pearson correlation coefficient using numpy\n",
    "\n",
    "r = np.corrcoef(x,y)\n",
    "print(\"Pearson correlation coefficient is: \", r)"
   ]
  },
  {
   "cell_type": "code",
   "execution_count": null,
   "id": "abd80c25",
   "metadata": {},
   "outputs": [],
   "source": []
  }
 ],
 "metadata": {
  "kernelspec": {
   "display_name": "Python 3 (ipykernel)",
   "language": "python",
   "name": "python3"
  },
  "language_info": {
   "codemirror_mode": {
    "name": "ipython",
    "version": 3
   },
   "file_extension": ".py",
   "mimetype": "text/x-python",
   "name": "python",
   "nbconvert_exporter": "python",
   "pygments_lexer": "ipython3",
   "version": "3.9.0"
  }
 },
 "nbformat": 4,
 "nbformat_minor": 5
}
