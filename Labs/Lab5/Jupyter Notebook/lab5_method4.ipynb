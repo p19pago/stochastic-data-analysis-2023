{
 "cells": [
  {
   "cell_type": "code",
   "execution_count": 1,
   "id": "f23b8b90",
   "metadata": {},
   "outputs": [],
   "source": [
    "# Lab 5th\n",
    "# \"my method\" 4 of 4 - solution with values input from a CSV file\n",
    "# without input or for-loops (random numbers)\n",
    "# using the random module in Python to generate random values\n",
    "\n",
    "# first we import the functions which will be used for our program.\n",
    "\n",
    "# we will use the numpy and math packages (math is optional as well)\n",
    "# we will also import the pandas package because it might be of need (in case of a CSV solution)\n",
    "# there are random numbers here as declared in tables of our choice\n",
    "# (we will import the random package too just in case)\n",
    "# (no dataset from a CSV file)\n",
    "\n",
    "import numpy as np\n",
    "import pandas as pd\n",
    "import math\n",
    "import random\n",
    "import csv"
   ]
  },
  {
   "cell_type": "code",
   "execution_count": 2,
   "id": "ec90547c",
   "metadata": {},
   "outputs": [],
   "source": [
    "# we will also import sqrt which stands for square root - it is optional\n",
    "\n",
    "from numpy import sqrt"
   ]
  },
  {
   "cell_type": "code",
   "execution_count": 3,
   "id": "b5a70f10",
   "metadata": {},
   "outputs": [],
   "source": [
    "# we will also import the data from the CSV file we created ('method4_dataset.csv')\n",
    "# declaring our data in two variables\n",
    "\n",
    "# one variable for the data of the x array\n",
    "# and one for the data of the y array\n",
    "\n",
    "# in this case, I used the official directory where my CSV file is located and imported\n",
    "# having cloned my github repository on my docs folder"
   ]
  },
  {
   "cell_type": "code",
   "execution_count": 4,
   "id": "bd5d9e94",
   "metadata": {},
   "outputs": [
    {
     "name": "stdout",
     "output_type": "stream",
     "text": [
      "Display all values of x array: \n",
      " [[75]\n",
      " [51]\n",
      " [12]\n",
      " [64]\n",
      " [49]\n",
      " [32]\n",
      " [86]\n",
      " [88]\n",
      " [88]\n",
      " [71]]\n"
     ]
    }
   ],
   "source": [
    "# dataframe for the x array\n",
    "\n",
    "df_x = pd.read_csv(\"C:\\\\Users\\\\user\\\\Documents\\\\στοχαστικη εργαστήριο\\\\Labs\\\\Lab5\\\\Python\\\\method 4\\\\method4-dataset.csv\",\n",
    "                   sep=\",\",\n",
    "                   decimal=\",\",\n",
    "                   index_col=1,\n",
    "                   )\n",
    "\n",
    "# declaring an array of our choice which will come from a CSV file\n",
    "# will consist of different values\n",
    "# no input from user or empty list creation\n",
    "# only from a CSV file\n",
    "\n",
    "# array values declaration\n",
    "# used a CSV file to assign each value\n",
    "\n",
    "x = df_x.to_numpy()\n",
    "\n",
    "print('Display all values of x array: \\n', x)"
   ]
  },
  {
   "cell_type": "code",
   "execution_count": 5,
   "id": "08ce516f",
   "metadata": {},
   "outputs": [
    {
     "name": "stdout",
     "output_type": "stream",
     "text": [
      "Display all values of y array: \n",
      " [[56]\n",
      " [39]\n",
      " [83]\n",
      " [50]\n",
      " [15]\n",
      " [73]\n",
      " [51]\n",
      " [50]\n",
      " [47]\n",
      " [ 7]]\n"
     ]
    }
   ],
   "source": [
    "# dataframe for the y array\n",
    "\n",
    "df_y = pd.read_csv(\"C:\\\\Users\\\\user\\\\Documents\\\\στοχαστικη εργαστήριο\\\\Labs\\\\Lab5\\\\Python\\\\method 4\\\\method4-dataset.csv\",\n",
    "                   sep=\",\",\n",
    "                   decimal=\",\",\n",
    "                   index_col=0,\n",
    "                   )\n",
    "\n",
    "# declaring an array of our choice which will come from a CSV file\n",
    "# will consist of different values\n",
    "# no input from user or empty list creation\n",
    "# only from a CSV file\n",
    "\n",
    "# array values declaration\n",
    "# used a CSV file to assign each value\n",
    "\n",
    "y = df_y.to_numpy()\n",
    "\n",
    "print('Display all values of y array: \\n', y)"
   ]
  },
  {
   "cell_type": "code",
   "execution_count": 6,
   "id": "903ccbe0",
   "metadata": {},
   "outputs": [],
   "source": [
    "# array size declaration\n",
    "\n",
    "n = 10"
   ]
  },
  {
   "cell_type": "code",
   "execution_count": 7,
   "id": "9664a500",
   "metadata": {},
   "outputs": [
    {
     "name": "stdout",
     "output_type": "stream",
     "text": [
      "Mean value is:  61.6\n",
      "Variance value is:  587.04\n",
      "Standard deviation value for x is:  24.228908353452493\n"
     ]
    }
   ],
   "source": [
    "# values for x array\n",
    "# mean value using numpy\n",
    "\n",
    "mx = np.mean(x)\n",
    "\n",
    "print(\"Mean value is: \", mx)\n",
    "\n",
    "# variance value using numpy\n",
    "\n",
    "vx = np.var(x)\n",
    "\n",
    "print('Variance value is: ', vx)\n",
    "\n",
    "# statistics value using numpy\n",
    "\n",
    "sdev_x = np.std(x)\n",
    "\n",
    "print(\"Standard deviation value for x is: \", sdev_x)"
   ]
  },
  {
   "cell_type": "code",
   "execution_count": 8,
   "id": "96baeb7c",
   "metadata": {},
   "outputs": [
    {
     "name": "stdout",
     "output_type": "stream",
     "text": [
      "Mean value is:  47.1\n",
      "Variance value is:  477.49000000000007\n",
      "Standard deviation value for x is:  21.851544567833187\n"
     ]
    }
   ],
   "source": [
    "# values for y array\n",
    "# mean value using numpy\n",
    "\n",
    "my = np.mean(y)\n",
    "\n",
    "print(\"Mean value is: \", my)\n",
    "\n",
    "# variance value using numpy\n",
    "\n",
    "vy = np.var(y)\n",
    "\n",
    "print('Variance value is: ', vy)\n",
    "\n",
    "# statistics value using numpy\n",
    "\n",
    "sdev_y = np.std(y)\n",
    "\n",
    "print(\"Standard deviation value for x is: \", sdev_y)"
   ]
  },
  {
   "cell_type": "code",
   "execution_count": 9,
   "id": "b8429d31",
   "metadata": {},
   "outputs": [
    {
     "name": "stdout",
     "output_type": "stream",
     "text": [
      "Covariance value is:  [[ 652.26666667 -237.62222222]\n",
      " [-237.62222222  530.54444444]]\n"
     ]
    }
   ],
   "source": [
    "# both arrays\n",
    "# covariance using numpy\n",
    "\n",
    "# x.T and y.T are used to avoid warnings on array size\n",
    "# in both cases\n",
    "\n",
    "cov_xy = np.cov(x.T,y.T)\n",
    "\n",
    "print(\"Covariance value is: \", cov_xy)\n"
   ]
  },
  {
   "cell_type": "code",
   "execution_count": 10,
   "id": "6ca8e713",
   "metadata": {},
   "outputs": [
    {
     "name": "stdout",
     "output_type": "stream",
     "text": [
      "Pearson correlation coefficient value is:  [[ 1.         -0.40393694]\n",
      " [-0.40393694  1.        ]]\n"
     ]
    }
   ],
   "source": [
    "# Pearson correlation coefficient using numpy\n",
    "\n",
    "pearson_xy = np.corrcoef(x.T,y.T)\n",
    "\n",
    "print(\"Pearson correlation coefficient value is: \", pearson_xy)"
   ]
  },
  {
   "cell_type": "code",
   "execution_count": null,
   "id": "e21591ae",
   "metadata": {},
   "outputs": [],
   "source": []
  }
 ],
 "metadata": {
  "kernelspec": {
   "display_name": "Python 3 (ipykernel)",
   "language": "python",
   "name": "python3"
  },
  "language_info": {
   "codemirror_mode": {
    "name": "ipython",
    "version": 3
   },
   "file_extension": ".py",
   "mimetype": "text/x-python",
   "name": "python",
   "nbconvert_exporter": "python",
   "pygments_lexer": "ipython3",
   "version": "3.9.0"
  }
 },
 "nbformat": 4,
 "nbformat_minor": 5
}
