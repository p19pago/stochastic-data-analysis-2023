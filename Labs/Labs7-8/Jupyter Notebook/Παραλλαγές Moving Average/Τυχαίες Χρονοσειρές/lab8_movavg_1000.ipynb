{
 "cells": [
  {
   "cell_type": "code",
   "execution_count": 1,
   "id": "1f47a336",
   "metadata": {},
   "outputs": [],
   "source": [
    "# Lab 7th & 8th - Moving Average\n",
    "# Solution using plot and functions\n",
    "\n",
    "# first we import the functions which will be used for our program.\n",
    "# we will use the numpy and matplotlib packages\n",
    "\n",
    "import numpy as np\n",
    "import matplotlib.pyplot as plt"
   ]
  },
  {
   "cell_type": "code",
   "execution_count": 2,
   "id": "1d97b309",
   "metadata": {},
   "outputs": [],
   "source": [
    "# also we will use the math and statistics packages \"just in case\"\n",
    "\n",
    "import math\n",
    "import statistics"
   ]
  },
  {
   "cell_type": "code",
   "execution_count": 3,
   "id": "792dfc17",
   "metadata": {},
   "outputs": [],
   "source": [
    "# we will also import the \"random\" package in order for the timeseries to be generated randomly\n",
    "# in a loop of 10\n",
    "\n",
    "import random"
   ]
  },
  {
   "cell_type": "code",
   "execution_count": 4,
   "id": "46744144",
   "metadata": {},
   "outputs": [],
   "source": [
    "# we will declare a time series of random data assigned in an array\n",
    "# an empty list of 100 integers\n",
    "\n",
    "timeseries = [random.randint(1, 1000) for i in range(10)]\n",
    "\n",
    "# then declare the array size\n",
    "\n",
    "n = 10  "
   ]
  },
  {
   "cell_type": "code",
   "execution_count": 5,
   "id": "ae92f777",
   "metadata": {},
   "outputs": [],
   "source": [
    "def MovingAverage(timeseries,lag=3):\n",
    "    '''\n",
    "        Calculates The Simple Moving Average (SMA) of a timeseries with a certain lag.\n",
    "        timeseries: The timeseries data to impliment the Simple Moving Average (SMA).\n",
    "        lag: The lag to use for the Simple Moving Average (SMA).\n",
    "    '''\n",
    "    ma = np.empty(len(timeseries))\n",
    "    ma[:] = np.nan\n",
    "    for i in range(lag,len(timeseries) - lag):\n",
    "        ma[i] = np.mean(timeseries[i-lag//2:i+lag//2+1])\n",
    "    return ma\n",
    "\n",
    "mavg = MovingAverage(timeseries)"
   ]
  },
  {
   "cell_type": "code",
   "execution_count": 6,
   "id": "b6c7815e",
   "metadata": {},
   "outputs": [
    {
     "data": {
      "text/plain": [
       "[<matplotlib.lines.Line2D at 0x25770a26970>]"
      ]
     },
     "execution_count": 6,
     "metadata": {},
     "output_type": "execute_result"
    },
    {
     "data": {
      "image/png": "[encoded data removed]",
      "text/plain": [
       "<Figure size 432x288 with 1 Axes>"
      ]
     },
     "metadata": {
      "needs_background": "light"
     },
     "output_type": "display_data"
    }
   ],
   "source": [
    "plt.plot(timeseries)\n",
    "plt.plot(mavg)"
   ]
  },
  {
   "cell_type": "code",
   "execution_count": null,
   "id": "6fd2dce0",
   "metadata": {},
   "outputs": [],
   "source": []
  }
 ],
 "metadata": {
  "kernelspec": {
   "display_name": "Python 3 (ipykernel)",
   "language": "python",
   "name": "python3"
  },
  "language_info": {
   "codemirror_mode": {
    "name": "ipython",
    "version": 3
   },
   "file_extension": ".py",
   "mimetype": "text/x-python",
   "name": "python",
   "nbconvert_exporter": "python",
   "pygments_lexer": "ipython3",
   "version": "3.9.0"
  }
 },
 "nbformat": 4,
 "nbformat_minor": 5
}
