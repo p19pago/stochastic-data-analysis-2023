{
 "cells": [
  {
   "cell_type": "code",
   "execution_count": 1,
   "id": "b247cb4d",
   "metadata": {},
   "outputs": [],
   "source": [
    "# Lab 7th & 8th - Moving Average\n",
    "# Solution using plot and functions\n",
    "\n",
    "# first we import the functions which will be used for our program.\n",
    "# we will use the numpy and matplotlib packages\n",
    "\n",
    "import numpy as np\n",
    "import matplotlib.pyplot as plt"
   ]
  },
  {
   "cell_type": "code",
   "execution_count": 2,
   "id": "2e4cda75",
   "metadata": {},
   "outputs": [],
   "source": [
    "# also we will use the math and statistics packages \"just in case\"\n",
    "\n",
    "import math\n",
    "import statistics"
   ]
  },
  {
   "cell_type": "code",
   "execution_count": 3,
   "id": "178e59d3",
   "metadata": {},
   "outputs": [],
   "source": [
    "# we will declare a time series of random data assigned in an array\n",
    "# first an empty list\n",
    "\n",
    "timeseries = []"
   ]
  },
  {
   "cell_type": "code",
   "execution_count": 4,
   "id": "6272c75c",
   "metadata": {},
   "outputs": [],
   "source": [
    "# then declare the array size\n",
    "\n",
    "n = 10"
   ]
  },
  {
   "cell_type": "code",
   "execution_count": 5,
   "id": "deced1ec",
   "metadata": {},
   "outputs": [
    {
     "name": "stdout",
     "output_type": "stream",
     "text": [
      "Enter values: \n",
      "1\n",
      "2\n",
      "3\n",
      "4\n",
      "5\n",
      "6\n",
      "7\n",
      "8\n",
      "9\n",
      "10\n"
     ]
    }
   ],
   "source": [
    "# a message used to prompt the user to enter their desired values\n",
    "\n",
    "print(\"Enter values: \")\n",
    "\n",
    "# for-loop\n",
    "\n",
    "for i in range(0, n):\n",
    "    ts = int(input())\n",
    "    timeseries.append(ts)"
   ]
  },
  {
   "cell_type": "code",
   "execution_count": 6,
   "id": "76011ea6",
   "metadata": {},
   "outputs": [],
   "source": [
    "def MovingAverage(timeseries,lag=3):\n",
    "    '''\n",
    "        Calculates The Simple Moving Average (SMA) of a timeseries with a certain lag.\n",
    "        timeseries: The timeseries data to impliment the Simple Moving Average (SMA).\n",
    "        lag: The lag to use for the Simple Moving Average (SMA).\n",
    "    '''\n",
    "    ma = np.empty(len(timeseries))\n",
    "    ma[:] = np.nan\n",
    "    for i in range(lag,len(timeseries) - lag):\n",
    "        ma[i] = np.mean(timeseries[i-lag//2:i+lag//2+1])\n",
    "    return ma\n",
    "\n",
    "mavg = MovingAverage(timeseries)"
   ]
  },
  {
   "cell_type": "code",
   "execution_count": 7,
   "id": "db58db32",
   "metadata": {},
   "outputs": [
    {
     "data": {
      "text/plain": [
       "[<matplotlib.lines.Line2D at 0x1e9cbfa9790>]"
      ]
     },
     "execution_count": 7,
     "metadata": {},
     "output_type": "execute_result"
    },
    {
     "data": {
      "image/png": "[encoded data removed]",
      "text/plain": [
       "<Figure size 432x288 with 1 Axes>"
      ]
     },
     "metadata": {
      "needs_background": "light"
     },
     "output_type": "display_data"
    }
   ],
   "source": [
    "plt.plot(timeseries)\n",
    "plt.plot(mavg)"
   ]
  },
  {
   "cell_type": "code",
   "execution_count": null,
   "id": "348bad4f",
   "metadata": {},
   "outputs": [],
   "source": []
  }
 ],
 "metadata": {
  "kernelspec": {
   "display_name": "Python 3 (ipykernel)",
   "language": "python",
   "name": "python3"
  },
  "language_info": {
   "codemirror_mode": {
    "name": "ipython",
    "version": 3
   },
   "file_extension": ".py",
   "mimetype": "text/x-python",
   "name": "python",
   "nbconvert_exporter": "python",
   "pygments_lexer": "ipython3",
   "version": "3.9.0"
  }
 },
 "nbformat": 4,
 "nbformat_minor": 5
}
